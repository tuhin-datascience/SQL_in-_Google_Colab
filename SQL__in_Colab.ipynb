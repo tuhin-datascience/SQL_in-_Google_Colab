{
  "nbformat": 4,
  "nbformat_minor": 0,
  "metadata": {
    "colab": {
      "provenance": [],
      "authorship_tag": "ABX9TyMyqRCXMcuEn9wh8wbm5Nkv",
      "include_colab_link": true
    },
    "kernelspec": {
      "name": "python3",
      "display_name": "Python 3"
    },
    "language_info": {
      "name": "python"
    }
  },
  "cells": [
    {
      "cell_type": "markdown",
      "metadata": {
        "id": "view-in-github",
        "colab_type": "text"
      },
      "source": [
        "<a href=\"https://colab.research.google.com/github/tuhin-datascience/SQL_in_Google_Colab/blob/main/SQL__in_Colab.ipynb\" target=\"_parent\"><img src=\"https://colab.research.google.com/assets/colab-badge.svg\" alt=\"Open In Colab\"/></a>"
      ]
    },
    {
      "cell_type": "markdown",
      "source": [
        "### **Google Colab and SQL**"
      ],
      "metadata": {
        "id": "ATTKQ1fwo8R8"
      }
    },
    {
      "cell_type": "markdown",
      "source": [
        "Google Colab is an invaluable resource for data scientists and machine learning practitioners. It offers a free, collaborative, cloud-based platform that allows users to write and execute Python code. However, it's less known that SQL, the standard language for data manipulation and queries, can be used directly within Colab.\n",
        "\n",
        "This guide will cover two methods for utilizing SQL within Google Colab: employing Python's SQLite library and utilizing magic commands.\n",
        "\n",
        "One way to use SQL in Google Colab is by leveraging Python libraries such as SQLite3. This method requires importing the SQLite3 libraries, establishing a connection to a database, and executing SQL queries using the pandas library's `read_sql_query()` function.\n",
        "\n",
        "Another method is through SQL magic commands, akin to those in Jupyter Notebooks. To employ SQL magic commands, one must install the ipython-sql library and activate the SQL extension with the %load_ext sql command. After activating the extension, you can connect to a database with the %sql command and run SQL queries using the %%sql cell magic command."
      ],
      "metadata": {
        "id": "oq59CNtY7BCQ"
      }
    },
    {
      "cell_type": "markdown",
      "source": [
        "### **Method 1: Using SQLite Database**\n",
        "SQLite is a serverless, self-contained, zero-configuration database engine that doesn't require additional installation steps. Python includes built-in support for SQLite.\n",
        "\n",
        "To start, import the SQLite3 module and establish a connection to the database in your Google Colab notebook. For this example, we'll use an in-memory database, indicated by ':memory:'.\n",
        "\n",
        "SQLite in-memory databases are stored in RAM instead of on a disk."
      ],
      "metadata": {
        "id": "3VViPiPg7AJv"
      }
    },
    {
      "cell_type": "code",
      "source": [
        "# Import of the library\n",
        "import sqlite3"
      ],
      "metadata": {
        "id": "05WOyrcqclD3"
      },
      "execution_count": 1,
      "outputs": []
    },
    {
      "cell_type": "code",
      "source": [
        "# Creation of the connection with the database\n",
        "conn = sqlite3.connect('sales.db')\n",
        "print(\"Opened database successfully\");"
      ],
      "metadata": {
        "colab": {
          "base_uri": "https://localhost:8080/"
        },
        "id": "cmLrkMwYck0m",
        "outputId": "6583b788-e111-487e-87f9-6ea8f030c467"
      },
      "execution_count": 2,
      "outputs": [
        {
          "output_type": "stream",
          "name": "stdout",
          "text": [
            "Opened database successfully\n"
          ]
        }
      ]
    },
    {
      "cell_type": "code",
      "source": [
        "# CREATING THE TABLE\n",
        "\n",
        "conn.execute('''\n",
        "CREATE TABLE IF NOT EXISTS sales(\n",
        "                      order_id varchar(10),\n",
        "                      item_code varchar(8),\n",
        "                      discount integer,\n",
        "                      price decimal(10,2) );''')\n",
        "\n",
        "conn.commit()\n",
        "\n",
        "print(\"Table created successfully\");\n",
        "\n",
        "conn.close()"
      ],
      "metadata": {
        "colab": {
          "base_uri": "https://localhost:8080/"
        },
        "id": "PM_xcaCu2VJ5",
        "outputId": "d19a7591-ac52-4d6a-9d41-76fd294ddd06"
      },
      "execution_count": 3,
      "outputs": [
        {
          "output_type": "stream",
          "name": "stdout",
          "text": [
            "Table created successfully\n"
          ]
        }
      ]
    },
    {
      "cell_type": "code",
      "source": [
        "conn = sqlite3.connect('sales.db')\n",
        "# INSERTING VALUES\n",
        "\n",
        "conn.execute(\"INSERT INTO sales VALUES('PO100', 'item100', 1, 53);\")\n",
        "conn.execute(\"INSERT INTO sales VALUES('PO200', 'item200', 2, 42);\")\n",
        "conn.execute(\"INSERT INTO sales VALUES('PO300', 'item200', 2, 50);\")\n",
        "conn.execute(\"INSERT INTO sales VALUES('PO400', 'item200', 2, 49);\")\n",
        "conn.execute(\"INSERT INTO sales VALUES('PO500', 'item100', 1, 45);\")\n",
        "conn.execute(\"INSERT INTO sales VALUES('PO600', 'item100', 1, 55);\")\n",
        "\n",
        "conn.commit()"
      ],
      "metadata": {
        "id": "VzZiZk8M2dVP"
      },
      "execution_count": 4,
      "outputs": []
    },
    {
      "cell_type": "code",
      "source": [
        "# Average goal by team\n",
        "\n",
        "conn = sqlite3.connect('sales.db')\n",
        "\n",
        "cursor = conn.execute(''' SELECT item_code,\n",
        "                          AVG(price) AS avg_price\n",
        "                          FROM sales\n",
        "                          GROUP BY item_code;''')\n",
        "\n",
        "for row in cursor:\n",
        "  print(row)\n",
        "conn.close()"
      ],
      "metadata": {
        "colab": {
          "base_uri": "https://localhost:8080/"
        },
        "id": "GBehyMQJ277J",
        "outputId": "6ddad0be-8dc9-437b-eef3-406d160e858d"
      },
      "execution_count": 5,
      "outputs": [
        {
          "output_type": "stream",
          "name": "stdout",
          "text": [
            "('item100', 50.166666666666664)\n",
            "('item200', 48.166666666666664)\n"
          ]
        }
      ]
    },
    {
      "cell_type": "code",
      "source": [
        "# Now, the correct query, using the appropriate sub-query\n",
        "\n",
        "conn = sqlite3.connect('sales.db')\n",
        "\n",
        "cursor = conn.execute(''' SELECT item_code, avg_price\n",
        "                          FROM (\n",
        "\n",
        "                          -- Here we make our sub-query:\n",
        "                            SELECT item_code,\n",
        "                            AVG(price) AS avg_price\n",
        "                            FROM sales\n",
        "                            GROUP BY item_code) tp\n",
        "                          -- End of the sub-query\n",
        "\n",
        "                          WHERE avg_price > 49;''')\n",
        "\n",
        "for row in cursor:\n",
        "  print(row)\n",
        "conn.close()"
      ],
      "metadata": {
        "colab": {
          "base_uri": "https://localhost:8080/"
        },
        "id": "naGsUs7M24f6",
        "outputId": "346154eb-b252-45a0-cfa4-678b6802f0c9"
      },
      "execution_count": 9,
      "outputs": [
        {
          "output_type": "stream",
          "name": "stdout",
          "text": [
            "('item100', 50.166666666666664)\n"
          ]
        }
      ]
    },
    {
      "cell_type": "markdown",
      "source": [
        "### **Method 2: Using Magic Commands**\n",
        "Magic commands in IPython are a useful set of commands that help solve common problems while working with data. One such command is the SQL magic command that allows writing SQL queries within a notebook.\n",
        "\n",
        "First, we need to install the ipython-sql extension. This can be done directly in a Colab cell:"
      ],
      "metadata": {
        "id": "UoRJ35Ks7P86"
      }
    },
    {
      "cell_type": "code",
      "source": [
        "# Install ipython-sql\n",
        "!pip install ipython-sql --quiet\n"
      ],
      "metadata": {
        "id": "EhKSscma3Ukf"
      },
      "execution_count": 10,
      "outputs": []
    },
    {
      "cell_type": "markdown",
      "source": [
        "Next, load the SQL extension and create a SQLite database:"
      ],
      "metadata": {
        "id": "4Uu8o5yV7ku6"
      }
    },
    {
      "cell_type": "code",
      "source": [
        "# Load the SQL extension\n",
        "%load_ext sql\n",
        "\n",
        "# Create a SQLite database\n",
        "%sql sqlite://\n"
      ],
      "metadata": {
        "id": "uAIqWeFD3aAl"
      },
      "execution_count": 11,
      "outputs": []
    },
    {
      "cell_type": "markdown",
      "source": [
        "Now you can write SQL queries using the %sql or %%sql magic commands. % is for single-line commands, and %% is for multi-line commands that run the entire cell as SQL.\n",
        "\n",
        "Here’s an example of executing SQL commands to create a table, insert data, and run a query using %%sql."
      ],
      "metadata": {
        "id": "HrhV6oIt7qoA"
      }
    },
    {
      "cell_type": "code",
      "source": [
        "%%sql\n",
        "CREATE TABLE IF NOT EXISTS sales(\n",
        "                      order_id varchar(10),\n",
        "                      item_code varchar(8),\n",
        "                      discount integer,\n",
        "                      price decimal(10,2) );"
      ],
      "metadata": {
        "colab": {
          "base_uri": "https://localhost:8080/"
        },
        "id": "LgWMmQgw3sDg",
        "outputId": "097dad43-265d-4460-cb03-d19c1e23931f"
      },
      "execution_count": 12,
      "outputs": [
        {
          "output_type": "stream",
          "name": "stdout",
          "text": [
            " * sqlite://\n",
            "Done.\n"
          ]
        },
        {
          "output_type": "execute_result",
          "data": {
            "text/plain": [
              "[]"
            ]
          },
          "metadata": {},
          "execution_count": 12
        }
      ]
    },
    {
      "cell_type": "code",
      "source": [
        "%%sql\n",
        "INSERT INTO sales VALUES('PO100', 'item100', 1, 53);\n",
        "INSERT INTO sales VALUES('PO200', 'item200', 2, 42);\n",
        "INSERT INTO sales VALUES('PO300', 'item200', 2, 50);\n",
        "INSERT INTO sales VALUES('PO400', 'item200', 2, 49);\n",
        "INSERT INTO sales VALUES('PO500', 'item100', 1, 45);\n",
        "INSERT INTO sales VALUES('PO600', 'item100', 1, 55);\n"
      ],
      "metadata": {
        "colab": {
          "base_uri": "https://localhost:8080/"
        },
        "id": "xQ5L92IS4bBG",
        "outputId": "76b5f1eb-9104-48cb-dd9e-39f70d15b3e9"
      },
      "execution_count": 13,
      "outputs": [
        {
          "output_type": "stream",
          "name": "stdout",
          "text": [
            " * sqlite://\n",
            "1 rows affected.\n",
            "1 rows affected.\n",
            "1 rows affected.\n",
            "1 rows affected.\n",
            "1 rows affected.\n",
            "1 rows affected.\n"
          ]
        },
        {
          "output_type": "execute_result",
          "data": {
            "text/plain": [
              "[]"
            ]
          },
          "metadata": {},
          "execution_count": 13
        }
      ]
    },
    {
      "cell_type": "code",
      "source": [
        "%%sql\n",
        "SELECT item_code, AVG(price) AS avg_price\n",
        "FROM sales\n",
        "GROUP BY item_code;"
      ],
      "metadata": {
        "colab": {
          "base_uri": "https://localhost:8080/",
          "height": 118
        },
        "id": "rw5i4T913yns",
        "outputId": "fd2e25e3-81a9-4f91-8c5c-e70b45a7fdb4"
      },
      "execution_count": 14,
      "outputs": [
        {
          "output_type": "stream",
          "name": "stdout",
          "text": [
            " * sqlite://\n",
            "Done.\n"
          ]
        },
        {
          "output_type": "execute_result",
          "data": {
            "text/plain": [
              "[('item100', 51.0), ('item200', 47.0)]"
            ],
            "text/html": [
              "<table>\n",
              "    <thead>\n",
              "        <tr>\n",
              "            <th>item_code</th>\n",
              "            <th>avg_price</th>\n",
              "        </tr>\n",
              "    </thead>\n",
              "    <tbody>\n",
              "        <tr>\n",
              "            <td>item100</td>\n",
              "            <td>51.0</td>\n",
              "        </tr>\n",
              "        <tr>\n",
              "            <td>item200</td>\n",
              "            <td>47.0</td>\n",
              "        </tr>\n",
              "    </tbody>\n",
              "</table>"
            ]
          },
          "metadata": {},
          "execution_count": 14
        }
      ]
    },
    {
      "cell_type": "code",
      "source": [
        "%%sql\n",
        "\n",
        "SELECT item_code, avg_price\n",
        "                          FROM (\n",
        "\n",
        "                          -- Here we make our sub-query:\n",
        "                            SELECT item_code,\n",
        "                            AVG(price) AS avg_price\n",
        "                            FROM sales\n",
        "                            GROUP BY item_code) tp\n",
        "                          -- End of the sub-query\n",
        "\n",
        "                          WHERE avg_price > 48;"
      ],
      "metadata": {
        "colab": {
          "base_uri": "https://localhost:8080/",
          "height": 97
        },
        "id": "zDS9hdYo4Bbe",
        "outputId": "c78d4a4c-dd49-45b6-9d3e-1664d92f5932"
      },
      "execution_count": 16,
      "outputs": [
        {
          "output_type": "stream",
          "name": "stdout",
          "text": [
            " * sqlite://\n",
            "Done.\n"
          ]
        },
        {
          "output_type": "execute_result",
          "data": {
            "text/plain": [
              "[('item100', 51.0)]"
            ],
            "text/html": [
              "<table>\n",
              "    <thead>\n",
              "        <tr>\n",
              "            <th>item_code</th>\n",
              "            <th>avg_price</th>\n",
              "        </tr>\n",
              "    </thead>\n",
              "    <tbody>\n",
              "        <tr>\n",
              "            <td>item100</td>\n",
              "            <td>51.0</td>\n",
              "        </tr>\n",
              "    </tbody>\n",
              "</table>"
            ]
          },
          "metadata": {},
          "execution_count": 16
        }
      ]
    }
  ]
}