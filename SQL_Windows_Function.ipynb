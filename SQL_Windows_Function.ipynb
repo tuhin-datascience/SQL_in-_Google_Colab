{
  "nbformat": 4,
  "nbformat_minor": 0,
  "metadata": {
    "colab": {
      "provenance": [],
      "authorship_tag": "ABX9TyO6yndkmpCre8+/80ASq1QM",
      "include_colab_link": true
    },
    "kernelspec": {
      "name": "python3",
      "display_name": "Python 3"
    },
    "language_info": {
      "name": "python"
    }
  },
  "cells": [
    {
      "cell_type": "markdown",
      "metadata": {
        "id": "view-in-github",
        "colab_type": "text"
      },
      "source": [
        "<a href=\"https://colab.research.google.com/github/tuhin-datascience/SQL_in_Google_Colab/blob/dev-branch/SQL_Windows_Function.ipynb\" target=\"_parent\"><img src=\"https://colab.research.google.com/assets/colab-badge.svg\" alt=\"Open In Colab\"/></a>"
      ]
    },
    {
      "cell_type": "markdown",
      "source": [
        "## **SQL Windows Functions**\n",
        "Magic commands in IPython are a useful set of commands that help solve common problems while working with data. One such command is the SQL magic command that allows writing SQL queries within a notebook.\n",
        "\n",
        "First, we need to install the ipython-sql extension. This can be done directly in a Colab cell:"
      ],
      "metadata": {
        "id": "0J_SEu3jOqJW"
      }
    },
    {
      "cell_type": "code",
      "execution_count": 1,
      "metadata": {
        "id": "ZnfiYGMHfBj8"
      },
      "outputs": [],
      "source": [
        "# Install ipython-sql\n",
        "!pip install ipython-sql --quiet\n"
      ]
    },
    {
      "cell_type": "markdown",
      "source": [
        "Next, load the SQL extension and create a SQLite database:"
      ],
      "metadata": {
        "id": "nTcLrAnZOw6X"
      }
    },
    {
      "cell_type": "code",
      "source": [
        "# Load the SQL extension\n",
        "%load_ext sql\n",
        "\n",
        "# Create a SQLite database\n",
        "%sql sqlite://\n"
      ],
      "metadata": {
        "id": "l9X8cqJSfPZI"
      },
      "execution_count": 2,
      "outputs": []
    },
    {
      "cell_type": "markdown",
      "source": [
        "### Tables Creation:\n",
        "\n",
        "Here, we have created two tables, products and product_group, product table contains infomation regarding the products and the product_group table contains the informstion regrding the product group.\n"
      ],
      "metadata": {
        "id": "JJwESlgrO_UX"
      }
    },
    {
      "cell_type": "code",
      "source": [
        "%%sql\n",
        "CREATE TABLE IF NOT EXISTS products(\n",
        "  product_id interger primary key,\n",
        "  product_name varchar(255) not null,\n",
        "  price decimal(10, 2) not null,\n",
        "  group_id integer not null,\n",
        "  foreign key (group_id) references product_group(group_id)\n",
        ");"
      ],
      "metadata": {
        "colab": {
          "base_uri": "https://localhost:8080/"
        },
        "id": "cpGbm5utfu4P",
        "outputId": "a93b44b9-b0c0-432b-d84c-d0251aa43cf7"
      },
      "execution_count": 3,
      "outputs": [
        {
          "output_type": "stream",
          "name": "stdout",
          "text": [
            " * sqlite://\n",
            "Done.\n"
          ]
        },
        {
          "output_type": "execute_result",
          "data": {
            "text/plain": [
              "[]"
            ]
          },
          "metadata": {},
          "execution_count": 3
        }
      ]
    },
    {
      "cell_type": "code",
      "source": [
        "%%sql\n",
        "\n",
        "CREATE TABLE IF NOT EXISTS product_group(\n",
        "group_id INTEGER PRIMARY KEY,\n",
        "group_name VARCHAR(255) NOT NULL\n",
        "\n",
        ");"
      ],
      "metadata": {
        "colab": {
          "base_uri": "https://localhost:8080/"
        },
        "id": "Y8L4XmZefRSZ",
        "outputId": "d3014ba6-e8ac-414f-ab7e-2f687404d6ec"
      },
      "execution_count": 4,
      "outputs": [
        {
          "output_type": "stream",
          "name": "stdout",
          "text": [
            " * sqlite://\n",
            "Done.\n"
          ]
        },
        {
          "output_type": "execute_result",
          "data": {
            "text/plain": [
              "[]"
            ]
          },
          "metadata": {},
          "execution_count": 4
        }
      ]
    },
    {
      "cell_type": "code",
      "source": [],
      "metadata": {
        "id": "Dcnhty8nr5EH"
      },
      "execution_count": null,
      "outputs": []
    },
    {
      "cell_type": "code",
      "source": [
        "%%sql\n",
        "\n",
        "INSERT INTO product_group(group_id, group_name) VALUES (1,'Smartphone');\n",
        "INSERT INTO product_group(group_id, group_name) VALUES (2, 'Laptop');\n",
        "INSERT INTO product_group(group_id, group_name) VALUES (3, 'Tablet');"
      ],
      "metadata": {
        "colab": {
          "base_uri": "https://localhost:8080/"
        },
        "id": "m7-5IQtxhHDd",
        "outputId": "eed197a2-7d33-4ad6-ab22-21f9dbcbe55f"
      },
      "execution_count": 5,
      "outputs": [
        {
          "output_type": "stream",
          "name": "stdout",
          "text": [
            " * sqlite://\n",
            "1 rows affected.\n",
            "1 rows affected.\n",
            "1 rows affected.\n"
          ]
        },
        {
          "output_type": "execute_result",
          "data": {
            "text/plain": [
              "[]"
            ]
          },
          "metadata": {},
          "execution_count": 5
        }
      ]
    },
    {
      "cell_type": "code",
      "source": [
        "%%sql\n",
        "INSERT INTO products (product_name, group_id,price)\n",
        "VALUES\n",
        "\t('Microsoft Lumia', 1, 200),\n",
        "\t('HTC One', 1, 400),\n",
        "\t('Nexus', 1, 500),\n",
        "\t('iPhone', 1, 900),\n",
        "\t('HP Elite', 2, 1200),\n",
        "\t('Lenovo Thinkpad', 2, 700),\n",
        "\t('Sony VAIO', 2, 700),\n",
        "\t('Dell Vostro', 2, 800),\n",
        "\t('iPad', 3, 700),\n",
        "\t('Kindle Fire', 3, 150),\n",
        "\t('Samsung Galaxy Tab', 3, 200);"
      ],
      "metadata": {
        "colab": {
          "base_uri": "https://localhost:8080/"
        },
        "id": "LNn9V_m2hG2L",
        "outputId": "ebe79e15-b4f1-472d-8bcd-05462d3d9da0"
      },
      "execution_count": 6,
      "outputs": [
        {
          "output_type": "stream",
          "name": "stdout",
          "text": [
            " * sqlite://\n",
            "11 rows affected.\n"
          ]
        },
        {
          "output_type": "execute_result",
          "data": {
            "text/plain": [
              "[]"
            ]
          },
          "metadata": {},
          "execution_count": 6
        }
      ]
    },
    {
      "cell_type": "code",
      "source": [],
      "metadata": {
        "id": "QllGy8WRr6Bw"
      },
      "execution_count": null,
      "outputs": []
    },
    {
      "cell_type": "markdown",
      "source": [
        "### **Introduction to PostgreSQL window functions**\n",
        "The easiest way to understand the window functions is to start by reviewing the aggregate functions. An aggregate function aggregates data from a set of rows into a single row.\n",
        "\n",
        "The following example uses the AVG() aggregate function to calculate the average price of all products in the products table."
      ],
      "metadata": {
        "id": "ZymmLyorr-DK"
      }
    },
    {
      "cell_type": "code",
      "source": [
        "%%sql\n",
        "\n",
        "SELECT AVG(price) FROM products;"
      ],
      "metadata": {
        "colab": {
          "base_uri": "https://localhost:8080/",
          "height": 97
        },
        "id": "C1lgsc9ysB4E",
        "outputId": "dcb0a700-e104-417d-e86b-e58b8ed7527c"
      },
      "execution_count": 7,
      "outputs": [
        {
          "output_type": "stream",
          "name": "stdout",
          "text": [
            " * sqlite://\n",
            "Done.\n"
          ]
        },
        {
          "output_type": "execute_result",
          "data": {
            "text/plain": [
              "[(586.3636363636364,)]"
            ],
            "text/html": [
              "<table>\n",
              "    <thead>\n",
              "        <tr>\n",
              "            <th>AVG(price)</th>\n",
              "        </tr>\n",
              "    </thead>\n",
              "    <tbody>\n",
              "        <tr>\n",
              "            <td>586.3636363636364</td>\n",
              "        </tr>\n",
              "    </tbody>\n",
              "</table>"
            ]
          },
          "metadata": {},
          "execution_count": 7
        }
      ]
    },
    {
      "cell_type": "code",
      "source": [],
      "metadata": {
        "id": "ROkk3wqq1YaM"
      },
      "execution_count": null,
      "outputs": []
    },
    {
      "cell_type": "markdown",
      "source": [
        "To apply the aggregate function to subsets of rows, you use the GROUP BY clause. The following example returns the average price for every product group."
      ],
      "metadata": {
        "id": "yYAUvXt71cgi"
      }
    },
    {
      "cell_type": "code",
      "source": [
        "%%sql\n",
        "\n",
        "select group_name, avg(price) from products\n",
        "inner join product_group on products.group_id = product_group.group_id\n",
        "group by group_name;"
      ],
      "metadata": {
        "colab": {
          "base_uri": "https://localhost:8080/",
          "height": 139
        },
        "id": "RL0uj3TX1gjR",
        "outputId": "3375636d-c82b-4438-af13-4891aa2ecda7"
      },
      "execution_count": 9,
      "outputs": [
        {
          "output_type": "stream",
          "name": "stdout",
          "text": [
            " * sqlite://\n",
            "Done.\n"
          ]
        },
        {
          "output_type": "execute_result",
          "data": {
            "text/plain": [
              "[('Laptop', 850.0), ('Smartphone', 500.0), ('Tablet', 350.0)]"
            ],
            "text/html": [
              "<table>\n",
              "    <thead>\n",
              "        <tr>\n",
              "            <th>group_name</th>\n",
              "            <th>avg(price)</th>\n",
              "        </tr>\n",
              "    </thead>\n",
              "    <tbody>\n",
              "        <tr>\n",
              "            <td>Laptop</td>\n",
              "            <td>850.0</td>\n",
              "        </tr>\n",
              "        <tr>\n",
              "            <td>Smartphone</td>\n",
              "            <td>500.0</td>\n",
              "        </tr>\n",
              "        <tr>\n",
              "            <td>Tablet</td>\n",
              "            <td>350.0</td>\n",
              "        </tr>\n",
              "    </tbody>\n",
              "</table>"
            ]
          },
          "metadata": {},
          "execution_count": 9
        }
      ]
    },
    {
      "cell_type": "markdown",
      "source": [
        "As you see clearly from the output, the AVG() function reduces the number of rows returned by the queries in both examples.\n",
        "\n",
        "Similar to an aggregate function, a window function operates on a set of rows. However, it does not reduce the number of rows returned by the query.\n",
        "\n",
        "The term window describes the set of rows on which the window function operates. A window function returns values from the rows in a window.\n",
        "\n",
        "For instance, the following query returns the product name, the price, product group name, along with the average prices of each product group."
      ],
      "metadata": {
        "id": "M9bsYz8j2tUU"
      }
    },
    {
      "cell_type": "code",
      "source": [
        "%%sql\n",
        "\n",
        "select product_name, price, group_name, avg(price)\n",
        "over (partition by group_name) as avg_price\n",
        "from products\n",
        "inner join product_group\n",
        "on products.group_id = product_group.group_id;"
      ],
      "metadata": {
        "colab": {
          "base_uri": "https://localhost:8080/",
          "height": 306
        },
        "id": "iQEEZJTsA7OV",
        "outputId": "822f5025-6332-45d1-e12e-af2d4d4f7fd0"
      },
      "execution_count": 10,
      "outputs": [
        {
          "output_type": "stream",
          "name": "stdout",
          "text": [
            " * sqlite://\n",
            "Done.\n"
          ]
        },
        {
          "output_type": "execute_result",
          "data": {
            "text/plain": [
              "[('HP Elite', 1200, 'Laptop', 850.0),\n",
              " ('Lenovo Thinkpad', 700, 'Laptop', 850.0),\n",
              " ('Sony VAIO', 700, 'Laptop', 850.0),\n",
              " ('Dell Vostro', 800, 'Laptop', 850.0),\n",
              " ('Microsoft Lumia', 200, 'Smartphone', 500.0),\n",
              " ('HTC One', 400, 'Smartphone', 500.0),\n",
              " ('Nexus', 500, 'Smartphone', 500.0),\n",
              " ('iPhone', 900, 'Smartphone', 500.0),\n",
              " ('iPad', 700, 'Tablet', 350.0),\n",
              " ('Kindle Fire', 150, 'Tablet', 350.0),\n",
              " ('Samsung Galaxy Tab', 200, 'Tablet', 350.0)]"
            ],
            "text/html": [
              "<table>\n",
              "    <thead>\n",
              "        <tr>\n",
              "            <th>product_name</th>\n",
              "            <th>price</th>\n",
              "            <th>group_name</th>\n",
              "            <th>avg_price</th>\n",
              "        </tr>\n",
              "    </thead>\n",
              "    <tbody>\n",
              "        <tr>\n",
              "            <td>HP Elite</td>\n",
              "            <td>1200</td>\n",
              "            <td>Laptop</td>\n",
              "            <td>850.0</td>\n",
              "        </tr>\n",
              "        <tr>\n",
              "            <td>Lenovo Thinkpad</td>\n",
              "            <td>700</td>\n",
              "            <td>Laptop</td>\n",
              "            <td>850.0</td>\n",
              "        </tr>\n",
              "        <tr>\n",
              "            <td>Sony VAIO</td>\n",
              "            <td>700</td>\n",
              "            <td>Laptop</td>\n",
              "            <td>850.0</td>\n",
              "        </tr>\n",
              "        <tr>\n",
              "            <td>Dell Vostro</td>\n",
              "            <td>800</td>\n",
              "            <td>Laptop</td>\n",
              "            <td>850.0</td>\n",
              "        </tr>\n",
              "        <tr>\n",
              "            <td>Microsoft Lumia</td>\n",
              "            <td>200</td>\n",
              "            <td>Smartphone</td>\n",
              "            <td>500.0</td>\n",
              "        </tr>\n",
              "        <tr>\n",
              "            <td>HTC One</td>\n",
              "            <td>400</td>\n",
              "            <td>Smartphone</td>\n",
              "            <td>500.0</td>\n",
              "        </tr>\n",
              "        <tr>\n",
              "            <td>Nexus</td>\n",
              "            <td>500</td>\n",
              "            <td>Smartphone</td>\n",
              "            <td>500.0</td>\n",
              "        </tr>\n",
              "        <tr>\n",
              "            <td>iPhone</td>\n",
              "            <td>900</td>\n",
              "            <td>Smartphone</td>\n",
              "            <td>500.0</td>\n",
              "        </tr>\n",
              "        <tr>\n",
              "            <td>iPad</td>\n",
              "            <td>700</td>\n",
              "            <td>Tablet</td>\n",
              "            <td>350.0</td>\n",
              "        </tr>\n",
              "        <tr>\n",
              "            <td>Kindle Fire</td>\n",
              "            <td>150</td>\n",
              "            <td>Tablet</td>\n",
              "            <td>350.0</td>\n",
              "        </tr>\n",
              "        <tr>\n",
              "            <td>Samsung Galaxy Tab</td>\n",
              "            <td>200</td>\n",
              "            <td>Tablet</td>\n",
              "            <td>350.0</td>\n",
              "        </tr>\n",
              "    </tbody>\n",
              "</table>"
            ]
          },
          "metadata": {},
          "execution_count": 10
        }
      ]
    },
    {
      "cell_type": "markdown",
      "source": [
        "In this query, the AVG() function works as a window function that operates on a set of rows specified by the OVER clause. Each set of rows is called a window.\n",
        "\n",
        "The new syntax for this query is the OVER clause:\n",
        "\n",
        "`AVG(price) OVER (PARTITION BY group_name)`\n",
        "\n",
        "In this syntax, the PARTITION BY distributes the rows of the result set into groups and the AVG() function is applied to each group to return the average price for each.\n",
        "\n",
        "Note that a window function always performs the calculation on the result set after the JOIN, WHERE, GROUP BY and HAVING clause and before the final ORDER BY clause in the evaluation order."
      ],
      "metadata": {
        "id": "BhW5H4XTJBu7"
      }
    },
    {
      "cell_type": "markdown",
      "source": [
        "### **PARTITION BY clause**\n",
        "The PARTITION BY clause divides rows into multiple groups or partitions to which the window function is applied. Like the example above, we used the product group to divide the products into groups (or partitions).\n",
        "\n",
        "The PARTITION BY clause is optional. If you skip the PARTITION BY clause, the window function will treat the whole result set as a single partition."
      ],
      "metadata": {
        "id": "2k28oj4-Jchk"
      }
    },
    {
      "cell_type": "markdown",
      "source": [
        "### **ORDER BY clause**\n",
        "The ORDER BY clause specifies the order of rows in each partition to which the window function is applied.\n",
        "\n",
        "The ORDER BY clause uses the NULLS FIRST or NULLS LAST option to specify whether nullable values should be first or last in the result set. The default is NULLS LAST option."
      ],
      "metadata": {
        "id": "kZ8fEQ0iJoGF"
      }
    },
    {
      "cell_type": "markdown",
      "source": [
        "### **SQL window function List**\n",
        "The following table lists all window functions provided by PostgreSQL. Note that some aggregate functions such as AVG(), MIN(), MAX(), SUM(), and COUNT() can be also used as window functions."
      ],
      "metadata": {
        "id": "ItiyAbUjJ5Dk"
      }
    },
    {
      "cell_type": "markdown",
      "source": [
        "### **Name\tDescription**\n",
        "CUME_DIST\tReturn the relative rank of the current row.\n",
        "DENSE_RANK\tRank the current row within its partition without gaps.\n",
        "FIRST_VALUE\tReturn a value evaluated against the first row within its partition.\n",
        "LAG\tReturn a value evaluated at the row that is at a specified physical offset row before the current row within the partition.\n",
        "LAST_VALUE\tReturn a value evaluated against the last row within its partition.\n",
        "LEAD\tReturn a value evaluated at the row that is offset rows after the current row within the partition.\n",
        "NTILE\tDivide rows in a partition as equally as possible and assign each row an integer starting from 1 to the argument value.\n",
        "NTH_VALUE\tReturn a value evaluated against the nth row in an ordered partition.\n",
        "PERCENT_RANK\tReturn the relative rank of the current row (rank-1) / (total rows – 1)\n",
        "RANK\tRank the current row within its partition with gaps.\n",
        "ROW_NUMBER\tNumber the current row within its partition starting from 1."
      ],
      "metadata": {
        "id": "HZ_pnKzbKAPF"
      }
    },
    {
      "cell_type": "markdown",
      "source": [
        "### **The ROW_NUMBER(), RANK(), and DENSE_RANK() functions**\n",
        "The ROW_NUMBER(), RANK(), and DENSE_RANK() functions assign an integer to each row based on its order in its result set.\n",
        "\n",
        "The ROW_NUMBER() function assigns a sequential number to each row in each partition. See the following query:"
      ],
      "metadata": {
        "id": "kVM39dzrKI6P"
      }
    },
    {
      "cell_type": "code",
      "source": [
        "%%sql\n",
        "\n",
        "select product_name, price, group_name,\n",
        "row_number() over(order by price) as [rn]\n",
        "from products\n",
        "inner join product_group\n",
        "on products.group_id = product_group.group_id;"
      ],
      "metadata": {
        "colab": {
          "base_uri": "https://localhost:8080/",
          "height": 306
        },
        "id": "S1tBCfpNK1Pw",
        "outputId": "46112fe6-4134-47c7-9fd0-90fa77a44117"
      },
      "execution_count": 13,
      "outputs": [
        {
          "output_type": "stream",
          "name": "stdout",
          "text": [
            " * sqlite://\n",
            "Done.\n"
          ]
        },
        {
          "output_type": "execute_result",
          "data": {
            "text/plain": [
              "[('Kindle Fire', 150, 'Tablet', 1),\n",
              " ('Microsoft Lumia', 200, 'Smartphone', 2),\n",
              " ('Samsung Galaxy Tab', 200, 'Tablet', 3),\n",
              " ('HTC One', 400, 'Smartphone', 4),\n",
              " ('Nexus', 500, 'Smartphone', 5),\n",
              " ('Lenovo Thinkpad', 700, 'Laptop', 6),\n",
              " ('Sony VAIO', 700, 'Laptop', 7),\n",
              " ('iPad', 700, 'Tablet', 8),\n",
              " ('Dell Vostro', 800, 'Laptop', 9),\n",
              " ('iPhone', 900, 'Smartphone', 10),\n",
              " ('HP Elite', 1200, 'Laptop', 11)]"
            ],
            "text/html": [
              "<table>\n",
              "    <thead>\n",
              "        <tr>\n",
              "            <th>product_name</th>\n",
              "            <th>price</th>\n",
              "            <th>group_name</th>\n",
              "            <th>rn</th>\n",
              "        </tr>\n",
              "    </thead>\n",
              "    <tbody>\n",
              "        <tr>\n",
              "            <td>Kindle Fire</td>\n",
              "            <td>150</td>\n",
              "            <td>Tablet</td>\n",
              "            <td>1</td>\n",
              "        </tr>\n",
              "        <tr>\n",
              "            <td>Microsoft Lumia</td>\n",
              "            <td>200</td>\n",
              "            <td>Smartphone</td>\n",
              "            <td>2</td>\n",
              "        </tr>\n",
              "        <tr>\n",
              "            <td>Samsung Galaxy Tab</td>\n",
              "            <td>200</td>\n",
              "            <td>Tablet</td>\n",
              "            <td>3</td>\n",
              "        </tr>\n",
              "        <tr>\n",
              "            <td>HTC One</td>\n",
              "            <td>400</td>\n",
              "            <td>Smartphone</td>\n",
              "            <td>4</td>\n",
              "        </tr>\n",
              "        <tr>\n",
              "            <td>Nexus</td>\n",
              "            <td>500</td>\n",
              "            <td>Smartphone</td>\n",
              "            <td>5</td>\n",
              "        </tr>\n",
              "        <tr>\n",
              "            <td>Lenovo Thinkpad</td>\n",
              "            <td>700</td>\n",
              "            <td>Laptop</td>\n",
              "            <td>6</td>\n",
              "        </tr>\n",
              "        <tr>\n",
              "            <td>Sony VAIO</td>\n",
              "            <td>700</td>\n",
              "            <td>Laptop</td>\n",
              "            <td>7</td>\n",
              "        </tr>\n",
              "        <tr>\n",
              "            <td>iPad</td>\n",
              "            <td>700</td>\n",
              "            <td>Tablet</td>\n",
              "            <td>8</td>\n",
              "        </tr>\n",
              "        <tr>\n",
              "            <td>Dell Vostro</td>\n",
              "            <td>800</td>\n",
              "            <td>Laptop</td>\n",
              "            <td>9</td>\n",
              "        </tr>\n",
              "        <tr>\n",
              "            <td>iPhone</td>\n",
              "            <td>900</td>\n",
              "            <td>Smartphone</td>\n",
              "            <td>10</td>\n",
              "        </tr>\n",
              "        <tr>\n",
              "            <td>HP Elite</td>\n",
              "            <td>1200</td>\n",
              "            <td>Laptop</td>\n",
              "            <td>11</td>\n",
              "        </tr>\n",
              "    </tbody>\n",
              "</table>"
            ]
          },
          "metadata": {},
          "execution_count": 13
        }
      ]
    },
    {
      "cell_type": "code",
      "source": [
        "%%sql\n",
        "\n",
        "select product_name, price, group_name,\n",
        "row_number() over(partition by group_name order by price) as [rn]\n",
        "from products\n",
        "inner join product_group\n",
        "on products.group_id = product_group.group_id;"
      ],
      "metadata": {
        "colab": {
          "base_uri": "https://localhost:8080/",
          "height": 306
        },
        "id": "ZY38hSlSLPFy",
        "outputId": "6540082c-40b5-40c5-88f9-68baedec312a"
      },
      "execution_count": 15,
      "outputs": [
        {
          "output_type": "stream",
          "name": "stdout",
          "text": [
            " * sqlite://\n",
            "Done.\n"
          ]
        },
        {
          "output_type": "execute_result",
          "data": {
            "text/plain": [
              "[('Lenovo Thinkpad', 700, 'Laptop', 1),\n",
              " ('Sony VAIO', 700, 'Laptop', 2),\n",
              " ('Dell Vostro', 800, 'Laptop', 3),\n",
              " ('HP Elite', 1200, 'Laptop', 4),\n",
              " ('Microsoft Lumia', 200, 'Smartphone', 1),\n",
              " ('HTC One', 400, 'Smartphone', 2),\n",
              " ('Nexus', 500, 'Smartphone', 3),\n",
              " ('iPhone', 900, 'Smartphone', 4),\n",
              " ('Kindle Fire', 150, 'Tablet', 1),\n",
              " ('Samsung Galaxy Tab', 200, 'Tablet', 2),\n",
              " ('iPad', 700, 'Tablet', 3)]"
            ],
            "text/html": [
              "<table>\n",
              "    <thead>\n",
              "        <tr>\n",
              "            <th>product_name</th>\n",
              "            <th>price</th>\n",
              "            <th>group_name</th>\n",
              "            <th>rn</th>\n",
              "        </tr>\n",
              "    </thead>\n",
              "    <tbody>\n",
              "        <tr>\n",
              "            <td>Lenovo Thinkpad</td>\n",
              "            <td>700</td>\n",
              "            <td>Laptop</td>\n",
              "            <td>1</td>\n",
              "        </tr>\n",
              "        <tr>\n",
              "            <td>Sony VAIO</td>\n",
              "            <td>700</td>\n",
              "            <td>Laptop</td>\n",
              "            <td>2</td>\n",
              "        </tr>\n",
              "        <tr>\n",
              "            <td>Dell Vostro</td>\n",
              "            <td>800</td>\n",
              "            <td>Laptop</td>\n",
              "            <td>3</td>\n",
              "        </tr>\n",
              "        <tr>\n",
              "            <td>HP Elite</td>\n",
              "            <td>1200</td>\n",
              "            <td>Laptop</td>\n",
              "            <td>4</td>\n",
              "        </tr>\n",
              "        <tr>\n",
              "            <td>Microsoft Lumia</td>\n",
              "            <td>200</td>\n",
              "            <td>Smartphone</td>\n",
              "            <td>1</td>\n",
              "        </tr>\n",
              "        <tr>\n",
              "            <td>HTC One</td>\n",
              "            <td>400</td>\n",
              "            <td>Smartphone</td>\n",
              "            <td>2</td>\n",
              "        </tr>\n",
              "        <tr>\n",
              "            <td>Nexus</td>\n",
              "            <td>500</td>\n",
              "            <td>Smartphone</td>\n",
              "            <td>3</td>\n",
              "        </tr>\n",
              "        <tr>\n",
              "            <td>iPhone</td>\n",
              "            <td>900</td>\n",
              "            <td>Smartphone</td>\n",
              "            <td>4</td>\n",
              "        </tr>\n",
              "        <tr>\n",
              "            <td>Kindle Fire</td>\n",
              "            <td>150</td>\n",
              "            <td>Tablet</td>\n",
              "            <td>1</td>\n",
              "        </tr>\n",
              "        <tr>\n",
              "            <td>Samsung Galaxy Tab</td>\n",
              "            <td>200</td>\n",
              "            <td>Tablet</td>\n",
              "            <td>2</td>\n",
              "        </tr>\n",
              "        <tr>\n",
              "            <td>iPad</td>\n",
              "            <td>700</td>\n",
              "            <td>Tablet</td>\n",
              "            <td>3</td>\n",
              "        </tr>\n",
              "    </tbody>\n",
              "</table>"
            ]
          },
          "metadata": {},
          "execution_count": 15
        }
      ]
    },
    {
      "cell_type": "markdown",
      "source": [
        "The RANK() function assigns ranking within an ordered partition. If rows have the same values, the  RANK() function assigns the same rank, with the next ranking(s) skipped.\n",
        "\n",
        "See the following query:"
      ],
      "metadata": {
        "id": "t_spbdOeLqSD"
      }
    },
    {
      "cell_type": "code",
      "source": [
        "%%sql\n",
        "\n",
        "select product_name, price, group_name,\n",
        "rank() over(partition by group_name order by price) as [rn]\n",
        "from products\n",
        "inner join product_group\n",
        "on products.group_id = product_group.group_id;"
      ],
      "metadata": {
        "colab": {
          "base_uri": "https://localhost:8080/",
          "height": 306
        },
        "id": "-IJY-G8xLj7Y",
        "outputId": "370dbdd9-158a-43bb-a014-3889641a4753"
      },
      "execution_count": 16,
      "outputs": [
        {
          "output_type": "stream",
          "name": "stdout",
          "text": [
            " * sqlite://\n",
            "Done.\n"
          ]
        },
        {
          "output_type": "execute_result",
          "data": {
            "text/plain": [
              "[('Lenovo Thinkpad', 700, 'Laptop', 1),\n",
              " ('Sony VAIO', 700, 'Laptop', 1),\n",
              " ('Dell Vostro', 800, 'Laptop', 3),\n",
              " ('HP Elite', 1200, 'Laptop', 4),\n",
              " ('Microsoft Lumia', 200, 'Smartphone', 1),\n",
              " ('HTC One', 400, 'Smartphone', 2),\n",
              " ('Nexus', 500, 'Smartphone', 3),\n",
              " ('iPhone', 900, 'Smartphone', 4),\n",
              " ('Kindle Fire', 150, 'Tablet', 1),\n",
              " ('Samsung Galaxy Tab', 200, 'Tablet', 2),\n",
              " ('iPad', 700, 'Tablet', 3)]"
            ],
            "text/html": [
              "<table>\n",
              "    <thead>\n",
              "        <tr>\n",
              "            <th>product_name</th>\n",
              "            <th>price</th>\n",
              "            <th>group_name</th>\n",
              "            <th>rn</th>\n",
              "        </tr>\n",
              "    </thead>\n",
              "    <tbody>\n",
              "        <tr>\n",
              "            <td>Lenovo Thinkpad</td>\n",
              "            <td>700</td>\n",
              "            <td>Laptop</td>\n",
              "            <td>1</td>\n",
              "        </tr>\n",
              "        <tr>\n",
              "            <td>Sony VAIO</td>\n",
              "            <td>700</td>\n",
              "            <td>Laptop</td>\n",
              "            <td>1</td>\n",
              "        </tr>\n",
              "        <tr>\n",
              "            <td>Dell Vostro</td>\n",
              "            <td>800</td>\n",
              "            <td>Laptop</td>\n",
              "            <td>3</td>\n",
              "        </tr>\n",
              "        <tr>\n",
              "            <td>HP Elite</td>\n",
              "            <td>1200</td>\n",
              "            <td>Laptop</td>\n",
              "            <td>4</td>\n",
              "        </tr>\n",
              "        <tr>\n",
              "            <td>Microsoft Lumia</td>\n",
              "            <td>200</td>\n",
              "            <td>Smartphone</td>\n",
              "            <td>1</td>\n",
              "        </tr>\n",
              "        <tr>\n",
              "            <td>HTC One</td>\n",
              "            <td>400</td>\n",
              "            <td>Smartphone</td>\n",
              "            <td>2</td>\n",
              "        </tr>\n",
              "        <tr>\n",
              "            <td>Nexus</td>\n",
              "            <td>500</td>\n",
              "            <td>Smartphone</td>\n",
              "            <td>3</td>\n",
              "        </tr>\n",
              "        <tr>\n",
              "            <td>iPhone</td>\n",
              "            <td>900</td>\n",
              "            <td>Smartphone</td>\n",
              "            <td>4</td>\n",
              "        </tr>\n",
              "        <tr>\n",
              "            <td>Kindle Fire</td>\n",
              "            <td>150</td>\n",
              "            <td>Tablet</td>\n",
              "            <td>1</td>\n",
              "        </tr>\n",
              "        <tr>\n",
              "            <td>Samsung Galaxy Tab</td>\n",
              "            <td>200</td>\n",
              "            <td>Tablet</td>\n",
              "            <td>2</td>\n",
              "        </tr>\n",
              "        <tr>\n",
              "            <td>iPad</td>\n",
              "            <td>700</td>\n",
              "            <td>Tablet</td>\n",
              "            <td>3</td>\n",
              "        </tr>\n",
              "    </tbody>\n",
              "</table>"
            ]
          },
          "metadata": {},
          "execution_count": 16
        }
      ]
    },
    {
      "cell_type": "markdown",
      "source": [
        "Similar to the RANK() function, the DENSE_RANK() function assigns a rank to each row within an ordered partition, but the ranks have no gap. In other words, the same ranks are assigned to multiple rows and no ranks are skipped."
      ],
      "metadata": {
        "id": "YQx2jAVVMBS6"
      }
    },
    {
      "cell_type": "code",
      "source": [
        "%%sql\n",
        "\n",
        "select product_name, price, group_name,\n",
        "dense_rank() over(partition by group_name order by price) as [rn]\n",
        "from products\n",
        "inner join product_group\n",
        "on products.group_id = product_group.group_id;"
      ],
      "metadata": {
        "colab": {
          "base_uri": "https://localhost:8080/",
          "height": 306
        },
        "id": "6BjSZg5kMIUV",
        "outputId": "06dd2a79-6245-468e-8ac4-c8b9bdede7b4"
      },
      "execution_count": 17,
      "outputs": [
        {
          "output_type": "stream",
          "name": "stdout",
          "text": [
            " * sqlite://\n",
            "Done.\n"
          ]
        },
        {
          "output_type": "execute_result",
          "data": {
            "text/plain": [
              "[('Lenovo Thinkpad', 700, 'Laptop', 1),\n",
              " ('Sony VAIO', 700, 'Laptop', 1),\n",
              " ('Dell Vostro', 800, 'Laptop', 2),\n",
              " ('HP Elite', 1200, 'Laptop', 3),\n",
              " ('Microsoft Lumia', 200, 'Smartphone', 1),\n",
              " ('HTC One', 400, 'Smartphone', 2),\n",
              " ('Nexus', 500, 'Smartphone', 3),\n",
              " ('iPhone', 900, 'Smartphone', 4),\n",
              " ('Kindle Fire', 150, 'Tablet', 1),\n",
              " ('Samsung Galaxy Tab', 200, 'Tablet', 2),\n",
              " ('iPad', 700, 'Tablet', 3)]"
            ],
            "text/html": [
              "<table>\n",
              "    <thead>\n",
              "        <tr>\n",
              "            <th>product_name</th>\n",
              "            <th>price</th>\n",
              "            <th>group_name</th>\n",
              "            <th>rn</th>\n",
              "        </tr>\n",
              "    </thead>\n",
              "    <tbody>\n",
              "        <tr>\n",
              "            <td>Lenovo Thinkpad</td>\n",
              "            <td>700</td>\n",
              "            <td>Laptop</td>\n",
              "            <td>1</td>\n",
              "        </tr>\n",
              "        <tr>\n",
              "            <td>Sony VAIO</td>\n",
              "            <td>700</td>\n",
              "            <td>Laptop</td>\n",
              "            <td>1</td>\n",
              "        </tr>\n",
              "        <tr>\n",
              "            <td>Dell Vostro</td>\n",
              "            <td>800</td>\n",
              "            <td>Laptop</td>\n",
              "            <td>2</td>\n",
              "        </tr>\n",
              "        <tr>\n",
              "            <td>HP Elite</td>\n",
              "            <td>1200</td>\n",
              "            <td>Laptop</td>\n",
              "            <td>3</td>\n",
              "        </tr>\n",
              "        <tr>\n",
              "            <td>Microsoft Lumia</td>\n",
              "            <td>200</td>\n",
              "            <td>Smartphone</td>\n",
              "            <td>1</td>\n",
              "        </tr>\n",
              "        <tr>\n",
              "            <td>HTC One</td>\n",
              "            <td>400</td>\n",
              "            <td>Smartphone</td>\n",
              "            <td>2</td>\n",
              "        </tr>\n",
              "        <tr>\n",
              "            <td>Nexus</td>\n",
              "            <td>500</td>\n",
              "            <td>Smartphone</td>\n",
              "            <td>3</td>\n",
              "        </tr>\n",
              "        <tr>\n",
              "            <td>iPhone</td>\n",
              "            <td>900</td>\n",
              "            <td>Smartphone</td>\n",
              "            <td>4</td>\n",
              "        </tr>\n",
              "        <tr>\n",
              "            <td>Kindle Fire</td>\n",
              "            <td>150</td>\n",
              "            <td>Tablet</td>\n",
              "            <td>1</td>\n",
              "        </tr>\n",
              "        <tr>\n",
              "            <td>Samsung Galaxy Tab</td>\n",
              "            <td>200</td>\n",
              "            <td>Tablet</td>\n",
              "            <td>2</td>\n",
              "        </tr>\n",
              "        <tr>\n",
              "            <td>iPad</td>\n",
              "            <td>700</td>\n",
              "            <td>Tablet</td>\n",
              "            <td>3</td>\n",
              "        </tr>\n",
              "    </tbody>\n",
              "</table>"
            ]
          },
          "metadata": {},
          "execution_count": 17
        }
      ]
    },
    {
      "cell_type": "markdown",
      "source": [
        "### **The FIRST_VALUE and LAST_VALUE functions**\n",
        "The FIRST_VALUE() function returns a value evaluated against the first row within its partition, whereas the LAST_VALUE() function returns a value evaluated against the last row in its partition.\n",
        "\n",
        "The following statement uses the FIRST_VALUE() to return the lowest price for every product group."
      ],
      "metadata": {
        "id": "LEMDTUDGMYV5"
      }
    },
    {
      "cell_type": "code",
      "source": [
        "%%sql\n",
        "\n",
        "select product_name, price, group_name,\n",
        "FIRST_VALUE(price) over(partition by group_name order by price) as [fv]\n",
        "from products\n",
        "inner join product_group\n",
        "ON products.group_id = product_group.group_id;"
      ],
      "metadata": {
        "colab": {
          "base_uri": "https://localhost:8080/",
          "height": 306
        },
        "id": "UCGHRUhMMpcP",
        "outputId": "a04c719d-2d6a-497b-99dc-823059df802d"
      },
      "execution_count": 21,
      "outputs": [
        {
          "output_type": "stream",
          "name": "stdout",
          "text": [
            " * sqlite://\n",
            "Done.\n"
          ]
        },
        {
          "output_type": "execute_result",
          "data": {
            "text/plain": [
              "[('Lenovo Thinkpad', 700, 'Laptop', 700),\n",
              " ('Sony VAIO', 700, 'Laptop', 700),\n",
              " ('Dell Vostro', 800, 'Laptop', 700),\n",
              " ('HP Elite', 1200, 'Laptop', 700),\n",
              " ('Microsoft Lumia', 200, 'Smartphone', 200),\n",
              " ('HTC One', 400, 'Smartphone', 200),\n",
              " ('Nexus', 500, 'Smartphone', 200),\n",
              " ('iPhone', 900, 'Smartphone', 200),\n",
              " ('Kindle Fire', 150, 'Tablet', 150),\n",
              " ('Samsung Galaxy Tab', 200, 'Tablet', 150),\n",
              " ('iPad', 700, 'Tablet', 150)]"
            ],
            "text/html": [
              "<table>\n",
              "    <thead>\n",
              "        <tr>\n",
              "            <th>product_name</th>\n",
              "            <th>price</th>\n",
              "            <th>group_name</th>\n",
              "            <th>fv</th>\n",
              "        </tr>\n",
              "    </thead>\n",
              "    <tbody>\n",
              "        <tr>\n",
              "            <td>Lenovo Thinkpad</td>\n",
              "            <td>700</td>\n",
              "            <td>Laptop</td>\n",
              "            <td>700</td>\n",
              "        </tr>\n",
              "        <tr>\n",
              "            <td>Sony VAIO</td>\n",
              "            <td>700</td>\n",
              "            <td>Laptop</td>\n",
              "            <td>700</td>\n",
              "        </tr>\n",
              "        <tr>\n",
              "            <td>Dell Vostro</td>\n",
              "            <td>800</td>\n",
              "            <td>Laptop</td>\n",
              "            <td>700</td>\n",
              "        </tr>\n",
              "        <tr>\n",
              "            <td>HP Elite</td>\n",
              "            <td>1200</td>\n",
              "            <td>Laptop</td>\n",
              "            <td>700</td>\n",
              "        </tr>\n",
              "        <tr>\n",
              "            <td>Microsoft Lumia</td>\n",
              "            <td>200</td>\n",
              "            <td>Smartphone</td>\n",
              "            <td>200</td>\n",
              "        </tr>\n",
              "        <tr>\n",
              "            <td>HTC One</td>\n",
              "            <td>400</td>\n",
              "            <td>Smartphone</td>\n",
              "            <td>200</td>\n",
              "        </tr>\n",
              "        <tr>\n",
              "            <td>Nexus</td>\n",
              "            <td>500</td>\n",
              "            <td>Smartphone</td>\n",
              "            <td>200</td>\n",
              "        </tr>\n",
              "        <tr>\n",
              "            <td>iPhone</td>\n",
              "            <td>900</td>\n",
              "            <td>Smartphone</td>\n",
              "            <td>200</td>\n",
              "        </tr>\n",
              "        <tr>\n",
              "            <td>Kindle Fire</td>\n",
              "            <td>150</td>\n",
              "            <td>Tablet</td>\n",
              "            <td>150</td>\n",
              "        </tr>\n",
              "        <tr>\n",
              "            <td>Samsung Galaxy Tab</td>\n",
              "            <td>200</td>\n",
              "            <td>Tablet</td>\n",
              "            <td>150</td>\n",
              "        </tr>\n",
              "        <tr>\n",
              "            <td>iPad</td>\n",
              "            <td>700</td>\n",
              "            <td>Tablet</td>\n",
              "            <td>150</td>\n",
              "        </tr>\n",
              "    </tbody>\n",
              "</table>"
            ]
          },
          "metadata": {},
          "execution_count": 21
        }
      ]
    },
    {
      "cell_type": "code",
      "source": [
        "%%sql\n",
        "\n",
        "select product_name, price, group_name,\n",
        "LAST_VALUE(price) over(partition by group_name order by price\n",
        "range between unbounded preceding and unbounded following) as [lv]\n",
        "from products\n",
        "inner join product_group\n",
        "ON products.group_id = product_group.group_id;"
      ],
      "metadata": {
        "colab": {
          "base_uri": "https://localhost:8080/",
          "height": 306
        },
        "id": "iYtLMhWsNED2",
        "outputId": "da3b9979-8d77-4183-faf7-d4472f51c38e"
      },
      "execution_count": 23,
      "outputs": [
        {
          "output_type": "stream",
          "name": "stdout",
          "text": [
            " * sqlite://\n",
            "Done.\n"
          ]
        },
        {
          "output_type": "execute_result",
          "data": {
            "text/plain": [
              "[('Lenovo Thinkpad', 700, 'Laptop', 1200),\n",
              " ('Sony VAIO', 700, 'Laptop', 1200),\n",
              " ('Dell Vostro', 800, 'Laptop', 1200),\n",
              " ('HP Elite', 1200, 'Laptop', 1200),\n",
              " ('Microsoft Lumia', 200, 'Smartphone', 900),\n",
              " ('HTC One', 400, 'Smartphone', 900),\n",
              " ('Nexus', 500, 'Smartphone', 900),\n",
              " ('iPhone', 900, 'Smartphone', 900),\n",
              " ('Kindle Fire', 150, 'Tablet', 700),\n",
              " ('Samsung Galaxy Tab', 200, 'Tablet', 700),\n",
              " ('iPad', 700, 'Tablet', 700)]"
            ],
            "text/html": [
              "<table>\n",
              "    <thead>\n",
              "        <tr>\n",
              "            <th>product_name</th>\n",
              "            <th>price</th>\n",
              "            <th>group_name</th>\n",
              "            <th>lv</th>\n",
              "        </tr>\n",
              "    </thead>\n",
              "    <tbody>\n",
              "        <tr>\n",
              "            <td>Lenovo Thinkpad</td>\n",
              "            <td>700</td>\n",
              "            <td>Laptop</td>\n",
              "            <td>1200</td>\n",
              "        </tr>\n",
              "        <tr>\n",
              "            <td>Sony VAIO</td>\n",
              "            <td>700</td>\n",
              "            <td>Laptop</td>\n",
              "            <td>1200</td>\n",
              "        </tr>\n",
              "        <tr>\n",
              "            <td>Dell Vostro</td>\n",
              "            <td>800</td>\n",
              "            <td>Laptop</td>\n",
              "            <td>1200</td>\n",
              "        </tr>\n",
              "        <tr>\n",
              "            <td>HP Elite</td>\n",
              "            <td>1200</td>\n",
              "            <td>Laptop</td>\n",
              "            <td>1200</td>\n",
              "        </tr>\n",
              "        <tr>\n",
              "            <td>Microsoft Lumia</td>\n",
              "            <td>200</td>\n",
              "            <td>Smartphone</td>\n",
              "            <td>900</td>\n",
              "        </tr>\n",
              "        <tr>\n",
              "            <td>HTC One</td>\n",
              "            <td>400</td>\n",
              "            <td>Smartphone</td>\n",
              "            <td>900</td>\n",
              "        </tr>\n",
              "        <tr>\n",
              "            <td>Nexus</td>\n",
              "            <td>500</td>\n",
              "            <td>Smartphone</td>\n",
              "            <td>900</td>\n",
              "        </tr>\n",
              "        <tr>\n",
              "            <td>iPhone</td>\n",
              "            <td>900</td>\n",
              "            <td>Smartphone</td>\n",
              "            <td>900</td>\n",
              "        </tr>\n",
              "        <tr>\n",
              "            <td>Kindle Fire</td>\n",
              "            <td>150</td>\n",
              "            <td>Tablet</td>\n",
              "            <td>700</td>\n",
              "        </tr>\n",
              "        <tr>\n",
              "            <td>Samsung Galaxy Tab</td>\n",
              "            <td>200</td>\n",
              "            <td>Tablet</td>\n",
              "            <td>700</td>\n",
              "        </tr>\n",
              "        <tr>\n",
              "            <td>iPad</td>\n",
              "            <td>700</td>\n",
              "            <td>Tablet</td>\n",
              "            <td>700</td>\n",
              "        </tr>\n",
              "    </tbody>\n",
              "</table>"
            ]
          },
          "metadata": {},
          "execution_count": 23
        }
      ]
    },
    {
      "cell_type": "markdown",
      "source": [
        "Notice that we added the frame clause `RANGE BETWEEN UNBOUNDED PRECEDING AND UNBOUNDED FOLLOWING` because by default the frame clause is `RANGE BETWEEN UNBOUNDED PRECEDING AND CURRENT ROW`."
      ],
      "metadata": {
        "id": "uulnrqrNN7SW"
      }
    },
    {
      "cell_type": "markdown",
      "source": [
        "### **The LAG and LEAD functions**\n",
        "The `LAG()` function has the ability to access data from the previous row, while the `LEAD()` function can access data from the next row.\n",
        "\n",
        "Both `LAG()` and `LEAD()` functions have the same syntax as follows:"
      ],
      "metadata": {
        "id": "LHJA_BXGOI7w"
      }
    },
    {
      "cell_type": "markdown",
      "source": [
        "\n",
        "```\n",
        "LAG  (expression [,offset] [,default]) over_clause;\n",
        "LEAD (expression [,offset] [,default]) over_clause;\n",
        "\n",
        "```\n",
        "The following statement uses the LAG() function to return the prices from the previous row and calculates the difference between the price of the current row and the previous row.\n"
      ],
      "metadata": {
        "id": "eBDagUCDOVOi"
      }
    },
    {
      "cell_type": "code",
      "source": [
        "%%sql\n",
        "\n",
        "select product_name, price, group_name,\n",
        "lag(price, 1, 0) over(partition by group_name order by price) as [prev_price],\n",
        "price - lag(price, 1, 0) over(partition by group_name order by price) as [price_diff]\n",
        "from products\n",
        "inner join product_group\n",
        "on products.group_id = product_group.group_id;"
      ],
      "metadata": {
        "colab": {
          "base_uri": "https://localhost:8080/",
          "height": 306
        },
        "id": "rDqM1XewOUzd",
        "outputId": "c2343b2a-382b-4afc-9654-f103a07a8b44"
      },
      "execution_count": 25,
      "outputs": [
        {
          "output_type": "stream",
          "name": "stdout",
          "text": [
            " * sqlite://\n",
            "Done.\n"
          ]
        },
        {
          "output_type": "execute_result",
          "data": {
            "text/plain": [
              "[('Lenovo Thinkpad', 700, 'Laptop', 0, 700),\n",
              " ('Sony VAIO', 700, 'Laptop', 700, 0),\n",
              " ('Dell Vostro', 800, 'Laptop', 700, 100),\n",
              " ('HP Elite', 1200, 'Laptop', 800, 400),\n",
              " ('Microsoft Lumia', 200, 'Smartphone', 0, 200),\n",
              " ('HTC One', 400, 'Smartphone', 200, 200),\n",
              " ('Nexus', 500, 'Smartphone', 400, 100),\n",
              " ('iPhone', 900, 'Smartphone', 500, 400),\n",
              " ('Kindle Fire', 150, 'Tablet', 0, 150),\n",
              " ('Samsung Galaxy Tab', 200, 'Tablet', 150, 50),\n",
              " ('iPad', 700, 'Tablet', 200, 500)]"
            ],
            "text/html": [
              "<table>\n",
              "    <thead>\n",
              "        <tr>\n",
              "            <th>product_name</th>\n",
              "            <th>price</th>\n",
              "            <th>group_name</th>\n",
              "            <th>prev_price</th>\n",
              "            <th>price_diff</th>\n",
              "        </tr>\n",
              "    </thead>\n",
              "    <tbody>\n",
              "        <tr>\n",
              "            <td>Lenovo Thinkpad</td>\n",
              "            <td>700</td>\n",
              "            <td>Laptop</td>\n",
              "            <td>0</td>\n",
              "            <td>700</td>\n",
              "        </tr>\n",
              "        <tr>\n",
              "            <td>Sony VAIO</td>\n",
              "            <td>700</td>\n",
              "            <td>Laptop</td>\n",
              "            <td>700</td>\n",
              "            <td>0</td>\n",
              "        </tr>\n",
              "        <tr>\n",
              "            <td>Dell Vostro</td>\n",
              "            <td>800</td>\n",
              "            <td>Laptop</td>\n",
              "            <td>700</td>\n",
              "            <td>100</td>\n",
              "        </tr>\n",
              "        <tr>\n",
              "            <td>HP Elite</td>\n",
              "            <td>1200</td>\n",
              "            <td>Laptop</td>\n",
              "            <td>800</td>\n",
              "            <td>400</td>\n",
              "        </tr>\n",
              "        <tr>\n",
              "            <td>Microsoft Lumia</td>\n",
              "            <td>200</td>\n",
              "            <td>Smartphone</td>\n",
              "            <td>0</td>\n",
              "            <td>200</td>\n",
              "        </tr>\n",
              "        <tr>\n",
              "            <td>HTC One</td>\n",
              "            <td>400</td>\n",
              "            <td>Smartphone</td>\n",
              "            <td>200</td>\n",
              "            <td>200</td>\n",
              "        </tr>\n",
              "        <tr>\n",
              "            <td>Nexus</td>\n",
              "            <td>500</td>\n",
              "            <td>Smartphone</td>\n",
              "            <td>400</td>\n",
              "            <td>100</td>\n",
              "        </tr>\n",
              "        <tr>\n",
              "            <td>iPhone</td>\n",
              "            <td>900</td>\n",
              "            <td>Smartphone</td>\n",
              "            <td>500</td>\n",
              "            <td>400</td>\n",
              "        </tr>\n",
              "        <tr>\n",
              "            <td>Kindle Fire</td>\n",
              "            <td>150</td>\n",
              "            <td>Tablet</td>\n",
              "            <td>0</td>\n",
              "            <td>150</td>\n",
              "        </tr>\n",
              "        <tr>\n",
              "            <td>Samsung Galaxy Tab</td>\n",
              "            <td>200</td>\n",
              "            <td>Tablet</td>\n",
              "            <td>150</td>\n",
              "            <td>50</td>\n",
              "        </tr>\n",
              "        <tr>\n",
              "            <td>iPad</td>\n",
              "            <td>700</td>\n",
              "            <td>Tablet</td>\n",
              "            <td>200</td>\n",
              "            <td>500</td>\n",
              "        </tr>\n",
              "    </tbody>\n",
              "</table>"
            ]
          },
          "metadata": {},
          "execution_count": 25
        }
      ]
    },
    {
      "cell_type": "markdown",
      "source": [
        "The following statement uses the `LEAD()` function to return the prices from the next row and calculates the difference between the price of the current row and the next row."
      ],
      "metadata": {
        "id": "fBP14ZX2PrWp"
      }
    },
    {
      "cell_type": "code",
      "source": [
        "%%sql\n",
        "\n",
        "select product_name, price, group_name,\n",
        "lead(price, 1, 0) over(partition by group_name order by price) as [next_price],\n",
        "price - lead(price, 1, 0) over(partition by group_name order by price) as [price_diff]\n",
        "from products\n",
        "inner join product_group\n",
        "on products.group_id = product_group.group_id;"
      ],
      "metadata": {
        "colab": {
          "base_uri": "https://localhost:8080/",
          "height": 306
        },
        "id": "klY5_fk_Pv0l",
        "outputId": "2a3aa973-cbcf-4031-f44c-dc793806be45"
      },
      "execution_count": 26,
      "outputs": [
        {
          "output_type": "stream",
          "name": "stdout",
          "text": [
            " * sqlite://\n",
            "Done.\n"
          ]
        },
        {
          "output_type": "execute_result",
          "data": {
            "text/plain": [
              "[('Lenovo Thinkpad', 700, 'Laptop', 700, 0),\n",
              " ('Sony VAIO', 700, 'Laptop', 800, -100),\n",
              " ('Dell Vostro', 800, 'Laptop', 1200, -400),\n",
              " ('HP Elite', 1200, 'Laptop', 0, 1200),\n",
              " ('Microsoft Lumia', 200, 'Smartphone', 400, -200),\n",
              " ('HTC One', 400, 'Smartphone', 500, -100),\n",
              " ('Nexus', 500, 'Smartphone', 900, -400),\n",
              " ('iPhone', 900, 'Smartphone', 0, 900),\n",
              " ('Kindle Fire', 150, 'Tablet', 200, -50),\n",
              " ('Samsung Galaxy Tab', 200, 'Tablet', 700, -500),\n",
              " ('iPad', 700, 'Tablet', 0, 700)]"
            ],
            "text/html": [
              "<table>\n",
              "    <thead>\n",
              "        <tr>\n",
              "            <th>product_name</th>\n",
              "            <th>price</th>\n",
              "            <th>group_name</th>\n",
              "            <th>next_price</th>\n",
              "            <th>price_diff</th>\n",
              "        </tr>\n",
              "    </thead>\n",
              "    <tbody>\n",
              "        <tr>\n",
              "            <td>Lenovo Thinkpad</td>\n",
              "            <td>700</td>\n",
              "            <td>Laptop</td>\n",
              "            <td>700</td>\n",
              "            <td>0</td>\n",
              "        </tr>\n",
              "        <tr>\n",
              "            <td>Sony VAIO</td>\n",
              "            <td>700</td>\n",
              "            <td>Laptop</td>\n",
              "            <td>800</td>\n",
              "            <td>-100</td>\n",
              "        </tr>\n",
              "        <tr>\n",
              "            <td>Dell Vostro</td>\n",
              "            <td>800</td>\n",
              "            <td>Laptop</td>\n",
              "            <td>1200</td>\n",
              "            <td>-400</td>\n",
              "        </tr>\n",
              "        <tr>\n",
              "            <td>HP Elite</td>\n",
              "            <td>1200</td>\n",
              "            <td>Laptop</td>\n",
              "            <td>0</td>\n",
              "            <td>1200</td>\n",
              "        </tr>\n",
              "        <tr>\n",
              "            <td>Microsoft Lumia</td>\n",
              "            <td>200</td>\n",
              "            <td>Smartphone</td>\n",
              "            <td>400</td>\n",
              "            <td>-200</td>\n",
              "        </tr>\n",
              "        <tr>\n",
              "            <td>HTC One</td>\n",
              "            <td>400</td>\n",
              "            <td>Smartphone</td>\n",
              "            <td>500</td>\n",
              "            <td>-100</td>\n",
              "        </tr>\n",
              "        <tr>\n",
              "            <td>Nexus</td>\n",
              "            <td>500</td>\n",
              "            <td>Smartphone</td>\n",
              "            <td>900</td>\n",
              "            <td>-400</td>\n",
              "        </tr>\n",
              "        <tr>\n",
              "            <td>iPhone</td>\n",
              "            <td>900</td>\n",
              "            <td>Smartphone</td>\n",
              "            <td>0</td>\n",
              "            <td>900</td>\n",
              "        </tr>\n",
              "        <tr>\n",
              "            <td>Kindle Fire</td>\n",
              "            <td>150</td>\n",
              "            <td>Tablet</td>\n",
              "            <td>200</td>\n",
              "            <td>-50</td>\n",
              "        </tr>\n",
              "        <tr>\n",
              "            <td>Samsung Galaxy Tab</td>\n",
              "            <td>200</td>\n",
              "            <td>Tablet</td>\n",
              "            <td>700</td>\n",
              "            <td>-500</td>\n",
              "        </tr>\n",
              "        <tr>\n",
              "            <td>iPad</td>\n",
              "            <td>700</td>\n",
              "            <td>Tablet</td>\n",
              "            <td>0</td>\n",
              "            <td>700</td>\n",
              "        </tr>\n",
              "    </tbody>\n",
              "</table>"
            ]
          },
          "metadata": {},
          "execution_count": 26
        }
      ]
    }
  ]
}